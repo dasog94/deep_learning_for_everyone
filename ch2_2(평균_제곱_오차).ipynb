{
  "nbformat": 4,
  "nbformat_minor": 0,
  "metadata": {
    "colab": {
      "name": "ch2_2(평균 제곱 오차).ipynb",
      "provenance": [],
      "collapsed_sections": [],
      "toc_visible": true,
      "authorship_tag": "ABX9TyM+9nnk2YGXmOyxcblsorFV",
      "include_colab_link": true
    },
    "kernelspec": {
      "name": "python3",
      "display_name": "Python 3"
    }
  },
  "cells": [
    {
      "cell_type": "markdown",
      "metadata": {
        "id": "view-in-github",
        "colab_type": "text"
      },
      "source": [
        "<a href=\"https://colab.research.google.com/github/dasog94/deep_learning_for_everyone/blob/master/ch2_2(%ED%8F%89%EA%B7%A0_%EC%A0%9C%EA%B3%B1_%EC%98%A4%EC%B0%A8).ipynb\" target=\"_parent\"><img src=\"https://colab.research.google.com/assets/colab-badge.svg\" alt=\"Open In Colab\"/></a>"
      ]
    },
    {
      "cell_type": "markdown",
      "metadata": {
        "id": "WXIrOCkb3_Z9",
        "colab_type": "text"
      },
      "source": [
        "# 3장 가장 훌륭한 예측선 긋기 : 선형 회귀(평균 제곱 오차)"
      ]
    },
    {
      "cell_type": "code",
      "metadata": {
        "id": "dzFd00zL7zEW",
        "colab_type": "code",
        "colab": {}
      },
      "source": [
        "!pip install tensorflow==2.0"
      ],
      "execution_count": 0,
      "outputs": []
    },
    {
      "cell_type": "code",
      "metadata": {
        "id": "lilfoBWu2eAL",
        "colab_type": "code",
        "colab": {
          "base_uri": "https://localhost:8080/",
          "height": 106
        },
        "outputId": "6b2ed9fb-9216-4eb3-9d2a-c89b4755eea9"
      },
      "source": [
        "import numpy as np\n",
        "\n",
        "fake_a_b = [3, 76]\n",
        "\n",
        "data = [[2, 81], [4, 93], [6, 91], [8, 97]]\n",
        "x = [i[0] for i in data]\n",
        "y = [i[1] for i in data]\n",
        "\n",
        "def predict(x):\n",
        "  return fake_a_b[0]*x + fake_a_b[1]\n",
        "\n",
        "def mse(y_hat, y):\n",
        "  return ((y_hat-y) ** 2).mean()\n",
        "\n",
        "#np로 array를 만들어서 인자로 넣으면 자동으로 모든 element에 접근하는 것인가? element에 하나하나 접근할 필요가 없나?\n",
        "def mse_val(predict_result, y):\n",
        "  return mse(np.array(predict_result), np.array(y))\n",
        "\n",
        "predict_result = []\n",
        "\n",
        "for i in range(len(x)):\n",
        "  predict_result.append(predict(x[i]))\n",
        "  print(\"공부한 시간=%.f, 실제 점수=%.f, 예측 점수=%.f\" % (x[i], y[i], predict(x[i])))\n",
        "\n",
        "print(\"mse 최종값: \" + str(mse_val(predict_result, y)))"
      ],
      "execution_count": 5,
      "outputs": [
        {
          "output_type": "stream",
          "text": [
            "공부한 시간=2, 실제 점수=81, 예측 점수=82\n",
            "공부한 시간=4, 실제 점수=93, 예측 점수=88\n",
            "공부한 시간=6, 실제 점수=91, 예측 점수=94\n",
            "공부한 시간=8, 실제 점수=97, 예측 점수=100\n",
            "mse 최종값: 11.0\n"
          ],
          "name": "stdout"
        }
      ]
    }
  ]
}