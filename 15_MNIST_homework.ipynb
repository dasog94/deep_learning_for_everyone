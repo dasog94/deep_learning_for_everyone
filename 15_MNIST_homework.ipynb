{
  "nbformat": 4,
  "nbformat_minor": 0,
  "metadata": {
    "kernelspec": {
      "name": "python3",
      "display_name": "Python 3"
    },
    "language_info": {
      "codemirror_mode": {
        "name": "ipython",
        "version": 3
      },
      "file_extension": ".py",
      "mimetype": "text/x-python",
      "name": "python",
      "nbconvert_exporter": "python",
      "pygments_lexer": "ipython3",
      "version": "3.6.9"
    },
    "colab": {
      "name": "15_MNIST_homework.ipynb",
      "provenance": [],
      "collapsed_sections": [],
      "include_colab_link": true
    },
    "accelerator": "GPU"
  },
  "cells": [
    {
      "cell_type": "markdown",
      "metadata": {
        "id": "view-in-github",
        "colab_type": "text"
      },
      "source": [
        "<a href=\"https://colab.research.google.com/github/dasog94/deep_learning_for_everyone/blob/master/15_MNIST_homework.ipynb\" target=\"_parent\"><img src=\"https://colab.research.google.com/assets/colab-badge.svg\" alt=\"Open In Colab\"/></a>"
      ]
    },
    {
      "cell_type": "code",
      "metadata": {
        "id": "7eSPrUB2kG7f",
        "colab_type": "code",
        "colab": {}
      },
      "source": [
        "from tensorflow.keras.datasets import mnist\n",
        "from tensorflow.keras.models import Sequential\n",
        "from tensorflow.keras.layers import Dense, Dropout, Flatten, Conv2D, MaxPooling2D\n",
        "from tensorflow.keras.callbacks import ModelCheckpoint, EarlyStopping\n",
        "from keras.utils import np_utils\n",
        "\n",
        "import tensorflow as tf\n",
        "import matplotlib.pyplot as plt\n",
        "import numpy as np\n",
        "import os"
      ],
      "execution_count": 0,
      "outputs": []
    },
    {
      "cell_type": "code",
      "metadata": {
        "id": "WuqSQdjAE7hR",
        "colab_type": "code",
        "colab": {}
      },
      "source": [
        "# seed 값 설정\n",
        "seed = 0\n",
        "np.random.seed(seed)\n",
        "tf.random.set_seed(3)\n",
        "\n",
        "# MNIST 데이터 불러오기\n",
        "(X_train, Y_train), (X_test, Y_test) = mnist.load_data()\n",
        "\n",
        "# 1차원으로 만들고 255로 나누어 정규화하기\n",
        "X_train = X_train.reshape(X_train.shape[0], 28, 28, 1).astype('float32') / 255\n",
        "X_test = X_test.reshape(X_test.shape[0], 28, 28, 1).astype('float32') / 255\n",
        "\n",
        "# 원-핫 인코딩\n",
        "Y_train = np_utils.to_categorical(Y_train, 10)\n",
        "Y_test = np_utils.to_categorical(Y_test, 10)"
      ],
      "execution_count": 0,
      "outputs": []
    },
    {
      "cell_type": "markdown",
      "metadata": {
        "id": "6SyRTui7RqbD",
        "colab_type": "text"
      },
      "source": [
        "**모델 설정**"
      ]
    },
    {
      "cell_type": "code",
      "metadata": {
        "id": "FcS2tNpIBGTs",
        "colab_type": "code",
        "colab": {}
      },
      "source": [
        "# 모델 프레임 설정\n",
        "model = Sequential()\n",
        "model.add(Conv2D(32, kernel_size=(3, 3), input_shape=(28, 28, 1), activation='relu'))\n",
        "model.add(Conv2D(64, (3, 3), activation='relu'))\n",
        "model.add(MaxPooling2D(pool_size=2))\n",
        "model.add(Dropout(0.25))\n",
        "model.add(Flatten())\n",
        "model.add(Dense(128,  activation='relu'))\n",
        "model.add(Dropout(0.5))\n",
        "model.add(Dense(10, activation='softmax'))\n",
        "\n",
        "# 모델 실행 환경 설정\n",
        "model.compile(loss='categorical_crossentropy',\n",
        "              optimizer='adam',\n",
        "              metrics=['accuracy'])"
      ],
      "execution_count": 0,
      "outputs": []
    },
    {
      "cell_type": "code",
      "metadata": {
        "id": "jHpHCM2qEuUO",
        "colab_type": "code",
        "colab": {}
      },
      "source": [
        "# 모델 프레임 설정\n",
        "model = Sequential()\n",
        "model.add(Conv2D(32, kernel_size=(3, 3), input_shape=(28, 28, 1), padding='valid', activation='relu'))\n",
        "model.add(Conv2D(64, (3, 3), padding='valid', activation='relu'))\n",
        "model.add(MaxPooling2D(pool_size=2))\n",
        "model.add(Dropout(0.25))\n",
        "model.add(Flatten())\n",
        "model.add(Dense(128,  activation='relu'))\n",
        "model.add(Dropout(0.5))\n",
        "model.add(Dense(10, activation='softmax'))\n",
        "\n",
        "# 모델 실행 환경 설정\n",
        "model.compile(loss='categorical_crossentropy',\n",
        "              optimizer='adam',\n",
        "              metrics=['accuracy'])"
      ],
      "execution_count": 0,
      "outputs": []
    },
    {
      "cell_type": "code",
      "metadata": {
        "id": "4RluC7ZpEuG6",
        "colab_type": "code",
        "colab": {}
      },
      "source": [
        "# 모델 프레임 설정\n",
        "model = Sequential()\n",
        "model.add(Conv2D(32, kernel_size=(3, 3), input_shape=(28, 28, 1), strides=2, activation='relu'))\n",
        "model.add(Conv2D(64, (3, 3), strides=1, activation='relu'))\n",
        "model.add(MaxPooling2D(pool_size=2))\n",
        "model.add(Dropout(0.25))\n",
        "model.add(Flatten())\n",
        "model.add(Dense(128,  activation='relu'))\n",
        "model.add(Dropout(0.5))\n",
        "model.add(Dense(10, activation='softmax'))\n",
        "\n",
        "# 모델 실행 환경 설정\n",
        "model.compile(loss='categorical_crossentropy',\n",
        "              optimizer='adam',\n",
        "              metrics=['accuracy'])"
      ],
      "execution_count": 0,
      "outputs": []
    },
    {
      "cell_type": "code",
      "metadata": {
        "id": "1esnzetpFPLT",
        "colab_type": "code",
        "colab": {}
      },
      "source": [
        "# 모델 프레임 설정\n",
        "model = Sequential()\n",
        "model.add(Conv2D(32, kernel_size=(3, 3), input_shape=(28, 28, 1), padding='valid', strides=2, activation='relu'))\n",
        "model.add(Conv2D(64, (3, 3), strides=1, activation='relu'))\n",
        "model.add(MaxPooling2D(pool_size=2))\n",
        "model.add(Dropout(0.25))\n",
        "model.add(Flatten())\n",
        "model.add(Dense(128,  activation='relu'))\n",
        "model.add(Dropout(0.5))\n",
        "model.add(Dense(10, activation='softmax'))\n",
        "\n",
        "# 모델 실행 환경 설정\n",
        "model.compile(loss='categorical_crossentropy',\n",
        "              optimizer='adam',\n",
        "              metrics=['accuracy'])"
      ],
      "execution_count": 0,
      "outputs": []
    },
    {
      "cell_type": "markdown",
      "metadata": {
        "id": "LgmI07YfRu4k",
        "colab_type": "text"
      },
      "source": [
        "**모델 저장, 자동중단 (ModelCheckpoint, EarlyStopping)**"
      ]
    },
    {
      "cell_type": "code",
      "metadata": {
        "id": "u9LKzeFhClvj",
        "colab_type": "code",
        "outputId": "dfabd558-cff8-4be0-959f-5a6abc57009a",
        "colab": {
          "base_uri": "https://localhost:8080/",
          "height": 1000
        }
      },
      "source": [
        "# 모델 최적화 설정\n",
        "MODEL_DIR = '/model/'\n",
        "if not os.path.exists(MODEL_DIR):\n",
        "    os.mkdir(MODEL_DIR)\n",
        "\n",
        "modelpath= \"/model/{epoch:02d}-{val_loss:.4f}.hdf5\"\n",
        "\n",
        "# 모니터할 값: val_loss(test set 오차), verbose: 1이면 해당 함수의 진행 사항 출력, save_best_only\n",
        "checkpointer = ModelCheckpoint(filepath=modelpath, monitor='val_loss', verbose=1, save_best_only=True) \n",
        "early_stopping_callback = EarlyStopping(monitor='val_loss', patience=10) # 10회 이상 성능 향상 없으면 earlystop\n",
        "\n",
        "# 모델 실행 (epoch 30번, 샘플 200개)\n",
        "history = model.fit(X_train, Y_train, validation_data=(X_test, Y_test), epochs=30, batch_size=200, verbose=0, callbacks=[early_stopping_callback,checkpointer])\n",
        "\n",
        "# 테스트 정확도 출력\n",
        "print(\"\\n Test Accuracy: %.4f\" % (model.evaluate(X_test, Y_test)[1]))\n"
      ],
      "execution_count": 19,
      "outputs": [
        {
          "output_type": "stream",
          "text": [
            "\n",
            "Epoch 00001: val_loss improved from inf to 0.05408, saving model to /model/01-0.0541.hdf5\n",
            "\n",
            "Epoch 00002: val_loss improved from 0.05408 to 0.04109, saving model to /model/02-0.0411.hdf5\n",
            "\n",
            "Epoch 00003: val_loss improved from 0.04109 to 0.03544, saving model to /model/03-0.0354.hdf5\n",
            "\n",
            "Epoch 00004: val_loss improved from 0.03544 to 0.03424, saving model to /model/04-0.0342.hdf5\n",
            "\n",
            "Epoch 00005: val_loss improved from 0.03424 to 0.02808, saving model to /model/05-0.0281.hdf5\n",
            "\n",
            "Epoch 00006: val_loss did not improve from 0.02808\n",
            "\n",
            "Epoch 00007: val_loss did not improve from 0.02808\n",
            "\n",
            "Epoch 00008: val_loss improved from 0.02808 to 0.02783, saving model to /model/08-0.0278.hdf5\n",
            "\n",
            "Epoch 00009: val_loss improved from 0.02783 to 0.02773, saving model to /model/09-0.0277.hdf5\n",
            "\n",
            "Epoch 00010: val_loss did not improve from 0.02773\n",
            "\n",
            "Epoch 00011: val_loss did not improve from 0.02773\n",
            "\n",
            "Epoch 00012: val_loss did not improve from 0.02773\n",
            "\n",
            "Epoch 00013: val_loss improved from 0.02773 to 0.02523, saving model to /model/13-0.0252.hdf5\n",
            "\n",
            "Epoch 00014: val_loss did not improve from 0.02523\n",
            "\n",
            "Epoch 00015: val_loss did not improve from 0.02523\n",
            "\n",
            "Epoch 00016: val_loss did not improve from 0.02523\n",
            "\n",
            "Epoch 00017: val_loss did not improve from 0.02523\n",
            "\n",
            "Epoch 00018: val_loss improved from 0.02523 to 0.02437, saving model to /model/18-0.0244.hdf5\n",
            "\n",
            "Epoch 00019: val_loss did not improve from 0.02437\n",
            "\n",
            "Epoch 00020: val_loss did not improve from 0.02437\n",
            "\n",
            "Epoch 00021: val_loss did not improve from 0.02437\n",
            "\n",
            "Epoch 00022: val_loss did not improve from 0.02437\n",
            "\n",
            "Epoch 00023: val_loss did not improve from 0.02437\n",
            "\n",
            "Epoch 00024: val_loss did not improve from 0.02437\n",
            "\n",
            "Epoch 00025: val_loss did not improve from 0.02437\n",
            "\n",
            "Epoch 00026: val_loss did not improve from 0.02437\n",
            "\n",
            "Epoch 00027: val_loss did not improve from 0.02437\n",
            "\n",
            "Epoch 00028: val_loss did not improve from 0.02437\n",
            "313/313 [==============================] - 1s 2ms/step - loss: 0.0323 - accuracy: 0.9931\n",
            "\n",
            " Test Accuracy: 0.9931\n"
          ],
          "name": "stdout"
        }
      ]
    },
    {
      "cell_type": "code",
      "metadata": {
        "id": "2Qub3_fEE1qO",
        "colab_type": "code",
        "colab": {
          "base_uri": "https://localhost:8080/",
          "height": 809
        },
        "outputId": "b01c92d2-347e-4375-a438-094b6de06d77"
      },
      "source": [
        "# 모델 최적화 설정\n",
        "MODEL_DIR = '/model/'\n",
        "if not os.path.exists(MODEL_DIR):\n",
        "    os.mkdir(MODEL_DIR)\n",
        "\n",
        "modelpath= \"/model/{epoch:02d}-{val_loss:.4f}.hdf5\"\n",
        "\n",
        "# 모니터할 값: val_loss(test set 오차), verbose: 1이면 해당 함수의 진행 사항 출력, save_best_only\n",
        "checkpointer = ModelCheckpoint(filepath=modelpath, monitor='val_loss', verbose=1, save_best_only=True) \n",
        "early_stopping_callback = EarlyStopping(monitor='val_loss', patience=10) # 10회 이상 성능 향상 없으면 earlystop\n",
        "\n",
        "# 모델 실행 (epoch 30번, 샘플 200개)\n",
        "history = model.fit(X_train, Y_train, validation_data=(X_test, Y_test), epochs=30, batch_size=200, verbose=0, callbacks=[early_stopping_callback,checkpointer])\n",
        "\n",
        "# 테스트 정확도 출력\n",
        "print(\"\\n Test Accuracy: %.4f\" % (model.evaluate(X_test, Y_test)[1]))\n"
      ],
      "execution_count": 22,
      "outputs": [
        {
          "output_type": "stream",
          "text": [
            "\n",
            "Epoch 00001: val_loss improved from inf to 0.05403, saving model to /model/01-0.0540.hdf5\n",
            "\n",
            "Epoch 00002: val_loss improved from 0.05403 to 0.03729, saving model to /model/02-0.0373.hdf5\n",
            "\n",
            "Epoch 00003: val_loss improved from 0.03729 to 0.03181, saving model to /model/03-0.0318.hdf5\n",
            "\n",
            "Epoch 00004: val_loss improved from 0.03181 to 0.02846, saving model to /model/04-0.0285.hdf5\n",
            "\n",
            "Epoch 00005: val_loss did not improve from 0.02846\n",
            "\n",
            "Epoch 00006: val_loss improved from 0.02846 to 0.02712, saving model to /model/06-0.0271.hdf5\n",
            "\n",
            "Epoch 00007: val_loss did not improve from 0.02712\n",
            "\n",
            "Epoch 00008: val_loss improved from 0.02712 to 0.02548, saving model to /model/08-0.0255.hdf5\n",
            "\n",
            "Epoch 00009: val_loss did not improve from 0.02548\n",
            "\n",
            "Epoch 00010: val_loss did not improve from 0.02548\n",
            "\n",
            "Epoch 00011: val_loss improved from 0.02548 to 0.02493, saving model to /model/11-0.0249.hdf5\n",
            "\n",
            "Epoch 00012: val_loss did not improve from 0.02493\n",
            "\n",
            "Epoch 00013: val_loss did not improve from 0.02493\n",
            "\n",
            "Epoch 00014: val_loss did not improve from 0.02493\n",
            "\n",
            "Epoch 00015: val_loss did not improve from 0.02493\n",
            "\n",
            "Epoch 00016: val_loss did not improve from 0.02493\n",
            "\n",
            "Epoch 00017: val_loss did not improve from 0.02493\n",
            "\n",
            "Epoch 00018: val_loss did not improve from 0.02493\n",
            "\n",
            "Epoch 00019: val_loss did not improve from 0.02493\n",
            "\n",
            "Epoch 00020: val_loss did not improve from 0.02493\n",
            "\n",
            "Epoch 00021: val_loss did not improve from 0.02493\n",
            "313/313 [==============================] - 1s 2ms/step - loss: 0.0276 - accuracy: 0.9938\n",
            "\n",
            " Test Accuracy: 0.9938\n"
          ],
          "name": "stdout"
        }
      ]
    },
    {
      "cell_type": "code",
      "metadata": {
        "id": "M3L74J1IFIm5",
        "colab_type": "code",
        "colab": {
          "base_uri": "https://localhost:8080/",
          "height": 1000
        },
        "outputId": "79f8fe19-8472-44ac-fe94-92ab9b27f30b"
      },
      "source": [
        "# 모델 최적화 설정\n",
        "MODEL_DIR = '/model/'\n",
        "if not os.path.exists(MODEL_DIR):\n",
        "    os.mkdir(MODEL_DIR)\n",
        "\n",
        "modelpath= \"/model/{epoch:02d}-{val_loss:.4f}.hdf5\"\n",
        "\n",
        "# 모니터할 값: val_loss(test set 오차), verbose: 1이면 해당 함수의 진행 사항 출력, save_best_only\n",
        "checkpointer = ModelCheckpoint(filepath=modelpath, monitor='val_loss', verbose=1, save_best_only=True) \n",
        "early_stopping_callback = EarlyStopping(monitor='val_loss', patience=10) # 10회 이상 성능 향상 없으면 earlystop\n",
        "\n",
        "# 모델 실행 (epoch 30번, 샘플 200개)\n",
        "history = model.fit(X_train, Y_train, validation_data=(X_test, Y_test), epochs=30, batch_size=200, verbose=0, callbacks=[early_stopping_callback,checkpointer])\n",
        "\n",
        "# 테스트 정확도 출력\n",
        "print(\"\\n Test Accuracy: %.4f\" % (model.evaluate(X_test, Y_test)[1]))\n"
      ],
      "execution_count": 25,
      "outputs": [
        {
          "output_type": "stream",
          "text": [
            "\n",
            "Epoch 00001: val_loss improved from inf to 0.07139, saving model to /model/01-0.0714.hdf5\n",
            "\n",
            "Epoch 00002: val_loss improved from 0.07139 to 0.04383, saving model to /model/02-0.0438.hdf5\n",
            "\n",
            "Epoch 00003: val_loss improved from 0.04383 to 0.03807, saving model to /model/03-0.0381.hdf5\n",
            "\n",
            "Epoch 00004: val_loss improved from 0.03807 to 0.03554, saving model to /model/04-0.0355.hdf5\n",
            "\n",
            "Epoch 00005: val_loss improved from 0.03554 to 0.03310, saving model to /model/05-0.0331.hdf5\n",
            "\n",
            "Epoch 00006: val_loss improved from 0.03310 to 0.02905, saving model to /model/06-0.0290.hdf5\n",
            "\n",
            "Epoch 00007: val_loss improved from 0.02905 to 0.02756, saving model to /model/07-0.0276.hdf5\n",
            "\n",
            "Epoch 00008: val_loss improved from 0.02756 to 0.02560, saving model to /model/08-0.0256.hdf5\n",
            "\n",
            "Epoch 00009: val_loss did not improve from 0.02560\n",
            "\n",
            "Epoch 00010: val_loss improved from 0.02560 to 0.02292, saving model to /model/10-0.0229.hdf5\n",
            "\n",
            "Epoch 00011: val_loss did not improve from 0.02292\n",
            "\n",
            "Epoch 00012: val_loss did not improve from 0.02292\n",
            "\n",
            "Epoch 00013: val_loss improved from 0.02292 to 0.02281, saving model to /model/13-0.0228.hdf5\n",
            "\n",
            "Epoch 00014: val_loss improved from 0.02281 to 0.02151, saving model to /model/14-0.0215.hdf5\n",
            "\n",
            "Epoch 00015: val_loss did not improve from 0.02151\n",
            "\n",
            "Epoch 00016: val_loss improved from 0.02151 to 0.02101, saving model to /model/16-0.0210.hdf5\n",
            "\n",
            "Epoch 00017: val_loss did not improve from 0.02101\n",
            "\n",
            "Epoch 00018: val_loss did not improve from 0.02101\n",
            "\n",
            "Epoch 00019: val_loss did not improve from 0.02101\n",
            "\n",
            "Epoch 00020: val_loss did not improve from 0.02101\n",
            "\n",
            "Epoch 00021: val_loss did not improve from 0.02101\n",
            "\n",
            "Epoch 00022: val_loss did not improve from 0.02101\n",
            "\n",
            "Epoch 00023: val_loss did not improve from 0.02101\n",
            "\n",
            "Epoch 00024: val_loss did not improve from 0.02101\n",
            "\n",
            "Epoch 00025: val_loss did not improve from 0.02101\n",
            "\n",
            "Epoch 00026: val_loss did not improve from 0.02101\n",
            "313/313 [==============================] - 1s 2ms/step - loss: 0.0231 - accuracy: 0.9928\n",
            "\n",
            " Test Accuracy: 0.9928\n"
          ],
          "name": "stdout"
        }
      ]
    },
    {
      "cell_type": "code",
      "metadata": {
        "id": "Jud4CDMSFNie",
        "colab_type": "code",
        "colab": {
          "base_uri": "https://localhost:8080/",
          "height": 1000
        },
        "outputId": "f448e53d-e597-4d4b-fe8c-1bdd962c642e"
      },
      "source": [
        "# 모델 최적화 설정\n",
        "MODEL_DIR = '/model/'\n",
        "if not os.path.exists(MODEL_DIR):\n",
        "    os.mkdir(MODEL_DIR)\n",
        "\n",
        "modelpath= \"/model/{epoch:02d}-{val_loss:.4f}.hdf5\"\n",
        "\n",
        "# 모니터할 값: val_loss(test set 오차), verbose: 1이면 해당 함수의 진행 사항 출력, save_best_only\n",
        "checkpointer = ModelCheckpoint(filepath=modelpath, monitor='val_loss', verbose=1, save_best_only=True) \n",
        "early_stopping_callback = EarlyStopping(monitor='val_loss', patience=10) # 10회 이상 성능 향상 없으면 earlystop\n",
        "\n",
        "# 모델 실행 (epoch 30번, 샘플 200개)\n",
        "history = model.fit(X_train, Y_train, validation_data=(X_test, Y_test), epochs=30, batch_size=200, verbose=0, callbacks=[early_stopping_callback,checkpointer])\n",
        "\n",
        "# 테스트 정확도 출력\n",
        "print(\"\\n Test Accuracy: %.4f\" % (model.evaluate(X_test, Y_test)[1]))\n"
      ],
      "execution_count": 30,
      "outputs": [
        {
          "output_type": "stream",
          "text": [
            "\n",
            "Epoch 00001: val_loss improved from inf to 0.07195, saving model to /model/01-0.0720.hdf5\n",
            "\n",
            "Epoch 00002: val_loss improved from 0.07195 to 0.04877, saving model to /model/02-0.0488.hdf5\n",
            "\n",
            "Epoch 00003: val_loss improved from 0.04877 to 0.04149, saving model to /model/03-0.0415.hdf5\n",
            "\n",
            "Epoch 00004: val_loss improved from 0.04149 to 0.03660, saving model to /model/04-0.0366.hdf5\n",
            "\n",
            "Epoch 00005: val_loss improved from 0.03660 to 0.03609, saving model to /model/05-0.0361.hdf5\n",
            "\n",
            "Epoch 00006: val_loss improved from 0.03609 to 0.03100, saving model to /model/06-0.0310.hdf5\n",
            "\n",
            "Epoch 00007: val_loss did not improve from 0.03100\n",
            "\n",
            "Epoch 00008: val_loss improved from 0.03100 to 0.02919, saving model to /model/08-0.0292.hdf5\n",
            "\n",
            "Epoch 00009: val_loss improved from 0.02919 to 0.02833, saving model to /model/09-0.0283.hdf5\n",
            "\n",
            "Epoch 00010: val_loss improved from 0.02833 to 0.02554, saving model to /model/10-0.0255.hdf5\n",
            "\n",
            "Epoch 00011: val_loss improved from 0.02554 to 0.02424, saving model to /model/11-0.0242.hdf5\n",
            "\n",
            "Epoch 00012: val_loss improved from 0.02424 to 0.02250, saving model to /model/12-0.0225.hdf5\n",
            "\n",
            "Epoch 00013: val_loss improved from 0.02250 to 0.02216, saving model to /model/13-0.0222.hdf5\n",
            "\n",
            "Epoch 00014: val_loss did not improve from 0.02216\n",
            "\n",
            "Epoch 00015: val_loss did not improve from 0.02216\n",
            "\n",
            "Epoch 00016: val_loss did not improve from 0.02216\n",
            "\n",
            "Epoch 00017: val_loss did not improve from 0.02216\n",
            "\n",
            "Epoch 00018: val_loss did not improve from 0.02216\n",
            "\n",
            "Epoch 00019: val_loss did not improve from 0.02216\n",
            "\n",
            "Epoch 00020: val_loss did not improve from 0.02216\n",
            "\n",
            "Epoch 00021: val_loss did not improve from 0.02216\n",
            "\n",
            "Epoch 00022: val_loss improved from 0.02216 to 0.02207, saving model to /model/22-0.0221.hdf5\n",
            "\n",
            "Epoch 00023: val_loss improved from 0.02207 to 0.01986, saving model to /model/23-0.0199.hdf5\n",
            "\n",
            "Epoch 00024: val_loss did not improve from 0.01986\n",
            "\n",
            "Epoch 00025: val_loss did not improve from 0.01986\n",
            "\n",
            "Epoch 00026: val_loss did not improve from 0.01986\n",
            "\n",
            "Epoch 00027: val_loss did not improve from 0.01986\n",
            "\n",
            "Epoch 00028: val_loss did not improve from 0.01986\n",
            "\n",
            "Epoch 00029: val_loss did not improve from 0.01986\n",
            "\n",
            "Epoch 00030: val_loss did not improve from 0.01986\n",
            "313/313 [==============================] - 1s 2ms/step - loss: 0.0240 - accuracy: 0.9931\n",
            "\n",
            " Test Accuracy: 0.9931\n"
          ],
          "name": "stdout"
        }
      ]
    },
    {
      "cell_type": "markdown",
      "metadata": {
        "id": "EISw5BKhR00C",
        "colab_type": "text"
      },
      "source": [
        "**실행결과 그래프 표현**"
      ]
    },
    {
      "cell_type": "code",
      "metadata": {
        "id": "kPqlJn_XDyma",
        "colab_type": "code",
        "outputId": "d8292259-dd37-4f7b-941e-88f30c82fcd0",
        "colab": {
          "base_uri": "https://localhost:8080/",
          "height": 283
        }
      },
      "source": [
        "# 테스트 셋 오차\n",
        "y_vloss = history.history['val_loss']\n",
        "\n",
        "# 학습셋 오차 (1 - 학습셋정확도)\n",
        "y_loss = history.history['loss']\n",
        "\n",
        "# 그래프 표현\n",
        "x_len = np.arange(len(y_loss))\n",
        "plt.plot(x_len, y_vloss, marker='.', c=\"red\", label='Testset_loss')\n",
        "plt.plot(x_len, y_loss, marker='.', c=\"blue\", label='Trainset_loss')\n",
        "\n",
        "plt.legend(loc='upper right')\n",
        "plt.axis([0, 20, 0, 0.35]) # 축 범위 표시\n",
        "plt.grid()\n",
        "plt.xlabel('epoch')\n",
        "plt.ylabel('loss')\n",
        "plt.show()\n"
      ],
      "execution_count": 20,
      "outputs": [
        {
          "output_type": "display_data",
          "data": {
            "image/png": "[encoded data removed]",
            "text/plain": [
              "<Figure size 432x288 with 1 Axes>"
            ]
          },
          "metadata": {
            "tags": []
          }
        }
      ]
    },
    {
      "cell_type": "code",
      "metadata": {
        "id": "r33Shj8HR7yf",
        "colab_type": "code",
        "colab": {
          "base_uri": "https://localhost:8080/",
          "height": 283
        },
        "outputId": "6824fd36-095f-4123-8968-16a5384c8ba6"
      },
      "source": [
        "# 테스트 셋 오차\n",
        "y_vloss = history.history['val_loss']\n",
        "\n",
        "# 학습셋 오차 (1 - 학습셋정확도)\n",
        "y_loss = history.history['loss']\n",
        "\n",
        "# 그래프 표현\n",
        "x_len = np.arange(len(y_loss))\n",
        "plt.plot(x_len, y_vloss, marker='.', c=\"red\", label='Testset_loss')\n",
        "plt.plot(x_len, y_loss, marker='.', c=\"blue\", label='Trainset_loss')\n",
        "\n",
        "plt.legend(loc='upper right')\n",
        "plt.axis([0, 20, 0, 0.35]) # 축 범위 표시\n",
        "plt.grid()\n",
        "plt.xlabel('epoch')\n",
        "plt.ylabel('loss')\n",
        "plt.show()\n"
      ],
      "execution_count": 24,
      "outputs": [
        {
          "output_type": "display_data",
          "data": {
            "image/png": "[encoded data removed]",
            "text/plain": [
              "<Figure size 432x288 with 1 Axes>"
            ]
          },
          "metadata": {
            "tags": []
          }
        }
      ]
    },
    {
      "cell_type": "code",
      "metadata": {
        "id": "2H2o2pZEFUMM",
        "colab_type": "code",
        "colab": {
          "base_uri": "https://localhost:8080/",
          "height": 283
        },
        "outputId": "72f79d08-e0a0-4936-80c3-cbe7cca76aec"
      },
      "source": [
        "# 테스트 셋 오차\n",
        "y_vloss = history.history['val_loss']\n",
        "\n",
        "# 학습셋 오차 (1 - 학습셋정확도)\n",
        "y_loss = history.history['loss']\n",
        "\n",
        "# 그래프 표현\n",
        "x_len = np.arange(len(y_loss))\n",
        "plt.plot(x_len, y_vloss, marker='.', c=\"red\", label='Testset_loss')\n",
        "plt.plot(x_len, y_loss, marker='.', c=\"blue\", label='Trainset_loss')\n",
        "\n",
        "plt.legend(loc='upper right')\n",
        "plt.axis([0, 20, 0, 0.35]) # 축 범위 표시\n",
        "plt.grid()\n",
        "plt.xlabel('epoch')\n",
        "plt.ylabel('loss')\n",
        "plt.show()\n"
      ],
      "execution_count": 26,
      "outputs": [
        {
          "output_type": "display_data",
          "data": {
            "image/png": "[encoded data removed]",
            "text/plain": [
              "<Figure size 432x288 with 1 Axes>"
            ]
          },
          "metadata": {
            "tags": []
          }
        }
      ]
    },
    {
      "cell_type": "code",
      "metadata": {
        "id": "TxF50mrSFl4N",
        "colab_type": "code",
        "colab": {
          "base_uri": "https://localhost:8080/",
          "height": 283
        },
        "outputId": "f0fc9f64-d24a-4b38-c956-3b7f9e626985"
      },
      "source": [
        "# 테스트 셋 오차\n",
        "y_vloss = history.history['val_loss']\n",
        "\n",
        "# 학습셋 오차 (1 - 학습셋정확도)\n",
        "y_loss = history.history['loss']\n",
        "\n",
        "# 그래프 표현\n",
        "x_len = np.arange(len(y_loss))\n",
        "plt.plot(x_len, y_vloss, marker='.', c=\"red\", label='Testset_loss')\n",
        "plt.plot(x_len, y_loss, marker='.', c=\"blue\", label='Trainset_loss')\n",
        "\n",
        "plt.legend(loc='upper right')\n",
        "plt.axis([0, 20, 0, 0.35]) # 축 범위 표시\n",
        "plt.grid()\n",
        "plt.xlabel('epoch')\n",
        "plt.ylabel('loss')\n",
        "plt.show()"
      ],
      "execution_count": 31,
      "outputs": [
        {
          "output_type": "display_data",
          "data": {
            "image/png": "[encoded data removed]",
            "text/plain": [
              "<Figure size 432x288 with 1 Axes>"
            ]
          },
          "metadata": {
            "tags": []
          }
        }
      ]
    }
  ]
}