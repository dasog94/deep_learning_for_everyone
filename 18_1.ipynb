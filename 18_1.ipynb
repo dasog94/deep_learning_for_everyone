{
  "nbformat": 4,
  "nbformat_minor": 0,
  "metadata": {
    "colab": {
      "name": "18_1.ipynb",
      "provenance": [],
      "authorship_tag": "ABX9TyMB6sKYd/Lup/lVskt5uhp5",
      "include_colab_link": true
    },
    "kernelspec": {
      "name": "python3",
      "display_name": "Python 3"
    }
  },
  "cells": [
    {
      "cell_type": "markdown",
      "metadata": {
        "id": "view-in-github",
        "colab_type": "text"
      },
      "source": [
        "<a href=\"https://colab.research.google.com/github/dasog94/deep_learning_for_everyone/blob/master/18_1.ipynb\" target=\"_parent\"><img src=\"https://colab.research.google.com/assets/colab-badge.svg\" alt=\"Open In Colab\"/></a>"
      ]
    },
    {
      "cell_type": "code",
      "metadata": {
        "id": "5-nArWQcO1MD",
        "colab_type": "code",
        "colab": {}
      },
      "source": [
        "from tensorflow.keras.datasets import reuters\n",
        "from tensorflow.keras.models import Sequential\n",
        "from tensorflow.keras.layers import Dense, LSTM, Embedding\n",
        "from tensorflow.keras.preprocessing import sequence\n",
        "from keras.utils import np_utils\n",
        "\n",
        "import numpy\n",
        "import tensorflow as tf\n",
        "import matplotlib.pyplot as plt\n",
        "\n",
        "seed = 0\n",
        "numpy.random.seed(seed)\n",
        "tf.random.set_seed(3)"
      ],
      "execution_count": 0,
      "outputs": []
    },
    {
      "cell_type": "code",
      "metadata": {
        "id": "myXR2QzgPTzT",
        "colab_type": "code",
        "colab": {
          "base_uri": "https://localhost:8080/",
          "height": 145
        },
        "outputId": "b614e09f-43ac-46c5-9818-e387733a5797"
      },
      "source": [
        "(X_train, Y_train), (X_test, Y_test) = reuters.load_data(num_words=1000, test_split=0.2)\n",
        "\n",
        "category = numpy.max(Y_train)+1\n",
        "print(category, '카테고리')\n",
        "print(len(X_train), '학습용 뉴스 기사')\n",
        "print(len(X_test), '학습용 뉴스 기사')\n",
        "print(X_train[0])"
      ],
      "execution_count": 4,
      "outputs": [
        {
          "output_type": "stream",
          "text": [
            "Downloading data from https://s3.amazonaws.com/text-datasets/reuters.npz\n",
            "2113536/2110848 [==============================] - 1s 1us/step\n",
            "46 카테고리\n",
            "8982 학습용 뉴스 기사\n",
            "2246 학습용 뉴스 기사\n",
            "[1, 2, 2, 8, 43, 10, 447, 5, 25, 207, 270, 5, 2, 111, 16, 369, 186, 90, 67, 7, 89, 5, 19, 102, 6, 19, 124, 15, 90, 67, 84, 22, 482, 26, 7, 48, 4, 49, 8, 864, 39, 209, 154, 6, 151, 6, 83, 11, 15, 22, 155, 11, 15, 7, 48, 9, 2, 2, 504, 6, 258, 6, 272, 11, 15, 22, 134, 44, 11, 15, 16, 8, 197, 2, 90, 67, 52, 29, 209, 30, 32, 132, 6, 109, 15, 17, 12]\n"
          ],
          "name": "stdout"
        }
      ]
    },
    {
      "cell_type": "code",
      "metadata": {
        "id": "9W0dTxcMPwu8",
        "colab_type": "code",
        "colab": {}
      },
      "source": [
        "X_train = sequence.pad_sequences(X_train, maxlen=100)\n",
        "X_test = sequence.pad_sequences(X_test, maxlen=100)\n",
        "Y_train = np_utils.to_categorical(Y_train)\n",
        "Y_test = np_utils.to_categorical(Y_test)"
      ],
      "execution_count": 0,
      "outputs": []
    },
    {
      "cell_type": "code",
      "metadata": {
        "id": "LqL7_UwiQFX1",
        "colab_type": "code",
        "colab": {}
      },
      "source": [
        "model = Sequential()\n",
        "model.add(Embedding(1000, 100))\n",
        "model.add(LSTM(100, activation='tanh'))\n",
        "model.add(Dense(46, activation='softmax'))\n",
        "\n",
        "model.compile(loss='categorical_crossentropy', optimizer='adam', metrics=['accuracy'])"
      ],
      "execution_count": 0,
      "outputs": []
    },
    {
      "cell_type": "code",
      "metadata": {
        "id": "pv9BGrztQh4A",
        "colab_type": "code",
        "colab": {
          "base_uri": "https://localhost:8080/",
          "height": 737
        },
        "outputId": "fefe415c-a877-4f83-9b5e-3abc4c1f316d"
      },
      "source": [
        "history = model.fit(X_train, Y_train, batch_size=100, epochs=20, validation_data=(X_test, Y_test))"
      ],
      "execution_count": 10,
      "outputs": [
        {
          "output_type": "stream",
          "text": [
            "Epoch 1/20\n",
            "90/90 [==============================] - 22s 240ms/step - loss: 2.5769 - accuracy: 0.3497 - val_loss: 2.1718 - val_accuracy: 0.4488\n",
            "Epoch 2/20\n",
            "90/90 [==============================] - 21s 235ms/step - loss: 2.0382 - accuracy: 0.4894 - val_loss: 1.9761 - val_accuracy: 0.4996\n",
            "Epoch 3/20\n",
            "90/90 [==============================] - 21s 238ms/step - loss: 1.8855 - accuracy: 0.5168 - val_loss: 1.7895 - val_accuracy: 0.5419\n",
            "Epoch 4/20\n",
            "90/90 [==============================] - 22s 239ms/step - loss: 1.7089 - accuracy: 0.5572 - val_loss: 1.7641 - val_accuracy: 0.5419\n",
            "Epoch 5/20\n",
            "90/90 [==============================] - 21s 237ms/step - loss: 1.6843 - accuracy: 0.5679 - val_loss: 1.6853 - val_accuracy: 0.5735\n",
            "Epoch 6/20\n",
            "90/90 [==============================] - 22s 239ms/step - loss: 1.6042 - accuracy: 0.5905 - val_loss: 1.6496 - val_accuracy: 0.5971\n",
            "Epoch 7/20\n",
            "90/90 [==============================] - 21s 239ms/step - loss: 1.5154 - accuracy: 0.6162 - val_loss: 1.5258 - val_accuracy: 0.6327\n",
            "Epoch 8/20\n",
            "90/90 [==============================] - 22s 240ms/step - loss: 1.4090 - accuracy: 0.6425 - val_loss: 1.4729 - val_accuracy: 0.6394\n",
            "Epoch 9/20\n",
            "90/90 [==============================] - 21s 239ms/step - loss: 1.3167 - accuracy: 0.6620 - val_loss: 1.4301 - val_accuracy: 0.6429\n",
            "Epoch 10/20\n",
            "90/90 [==============================] - 21s 238ms/step - loss: 1.2357 - accuracy: 0.6824 - val_loss: 1.4124 - val_accuracy: 0.6429\n",
            "Epoch 11/20\n",
            "90/90 [==============================] - 21s 238ms/step - loss: 1.1827 - accuracy: 0.6958 - val_loss: 1.3569 - val_accuracy: 0.6621\n",
            "Epoch 12/20\n",
            "90/90 [==============================] - 21s 236ms/step - loss: 1.1360 - accuracy: 0.7075 - val_loss: 1.2982 - val_accuracy: 0.6741\n",
            "Epoch 13/20\n",
            "90/90 [==============================] - 21s 237ms/step - loss: 1.0789 - accuracy: 0.7214 - val_loss: 1.2949 - val_accuracy: 0.6701\n",
            "Epoch 14/20\n",
            "90/90 [==============================] - 21s 238ms/step - loss: 1.0384 - accuracy: 0.7335 - val_loss: 1.2726 - val_accuracy: 0.6728\n",
            "Epoch 15/20\n",
            "90/90 [==============================] - 22s 240ms/step - loss: 0.9815 - accuracy: 0.7466 - val_loss: 1.2550 - val_accuracy: 0.6937\n",
            "Epoch 16/20\n",
            "90/90 [==============================] - 21s 238ms/step - loss: 0.9451 - accuracy: 0.7613 - val_loss: 1.2641 - val_accuracy: 0.6785\n",
            "Epoch 17/20\n",
            "90/90 [==============================] - 22s 239ms/step - loss: 0.9023 - accuracy: 0.7720 - val_loss: 1.2229 - val_accuracy: 0.7012\n",
            "Epoch 18/20\n",
            "90/90 [==============================] - 22s 239ms/step - loss: 0.8650 - accuracy: 0.7804 - val_loss: 1.2189 - val_accuracy: 0.7093\n",
            "Epoch 19/20\n",
            "90/90 [==============================] - 22s 240ms/step - loss: 0.8169 - accuracy: 0.7948 - val_loss: 1.2388 - val_accuracy: 0.6955\n",
            "Epoch 20/20\n",
            "90/90 [==============================] - 22s 239ms/step - loss: 0.8021 - accuracy: 0.7969 - val_loss: 1.2243 - val_accuracy: 0.7204\n"
          ],
          "name": "stdout"
        }
      ]
    },
    {
      "cell_type": "code",
      "metadata": {
        "id": "VRsXMimsQ5Mn",
        "colab_type": "code",
        "colab": {
          "base_uri": "https://localhost:8080/",
          "height": 71
        },
        "outputId": "41439fe5-2cb3-4a91-8511-4f8be3cad1f6"
      },
      "source": [
        "print(\"\\n Test Accuracy: %.4f\" % (model.evaluate(X_test, Y_test)[1]))"
      ],
      "execution_count": 11,
      "outputs": [
        {
          "output_type": "stream",
          "text": [
            "71/71 [==============================] - 2s 24ms/step - loss: 1.2159 - accuracy: 0.7204\n",
            "\n",
            " Test Accuracy: 0.7204\n"
          ],
          "name": "stdout"
        }
      ]
    },
    {
      "cell_type": "code",
      "metadata": {
        "id": "JGtdkoUxREh0",
        "colab_type": "code",
        "colab": {
          "base_uri": "https://localhost:8080/",
          "height": 279
        },
        "outputId": "0c51402b-5b26-46d0-aa0e-06cdaefd72b2"
      },
      "source": [
        "Y_vloss = history.history['val_loss']\n",
        "Y_loss = history.history['loss']\n",
        "\n",
        "X_len = numpy.arange(len(Y_loss))\n",
        "plt.plot(X_len, Y_vloss, marker='.', c='red', label='Testset_loss')\n",
        "plt.plot(X_len, Y_loss, marker='.', c='blue', label='Trainset_loss')\n",
        "\n",
        "plt.legend(loc='upper right')\n",
        "plt.grid()\n",
        "plt.xlabel('epoch')\n",
        "plt.ylabel('loss')\n",
        "plt.show()"
      ],
      "execution_count": 13,
      "outputs": [
        {
          "output_type": "display_data",
          "data": {
            "image/png": "[encoded data removed]",
            "text/plain": [
              "<Figure size 432x288 with 1 Axes>"
            ]
          },
          "metadata": {
            "tags": []
          }
        }
      ]
    }
  ]
}