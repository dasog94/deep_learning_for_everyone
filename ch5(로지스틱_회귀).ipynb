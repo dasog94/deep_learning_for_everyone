{
  "nbformat": 4,
  "nbformat_minor": 0,
  "metadata": {
    "colab": {
      "name": "ch5(로지스틱 회귀).ipynb",
      "provenance": [],
      "collapsed_sections": [],
      "toc_visible": true,
      "authorship_tag": "ABX9TyOOFe6iKMi80c3ixkrgHYcl",
      "include_colab_link": true
    },
    "kernelspec": {
      "name": "python3",
      "display_name": "Python 3"
    }
  },
  "cells": [
    {
      "cell_type": "markdown",
      "metadata": {
        "id": "view-in-github",
        "colab_type": "text"
      },
      "source": [
        "<a href=\"https://colab.research.google.com/github/dasog94/deep_learning_for_everyone/blob/master/ch5(%EB%A1%9C%EC%A7%80%EC%8A%A4%ED%8B%B1_%ED%9A%8C%EA%B7%80).ipynb\" target=\"_parent\"><img src=\"https://colab.research.google.com/assets/colab-badge.svg\" alt=\"Open In Colab\"/></a>"
      ]
    },
    {
      "cell_type": "markdown",
      "metadata": {
        "id": "WXIrOCkb3_Z9",
        "colab_type": "text"
      },
      "source": [
        "# 5장 참 거짓 판단 장치 : 로지스틱 회귀"
      ]
    },
    {
      "cell_type": "code",
      "metadata": {
        "id": "dzFd00zL7zEW",
        "colab_type": "code",
        "colab": {}
      },
      "source": [
        "!pip install tensorflow==2.0"
      ],
      "execution_count": 0,
      "outputs": []
    },
    {
      "cell_type": "code",
      "metadata": {
        "id": "lilfoBWu2eAL",
        "colab_type": "code",
        "colab": {
          "base_uri": "https://localhost:8080/",
          "height": 638
        },
        "outputId": "46356cd7-cd8a-4189-b1b7-59f8b0f6b31b"
      },
      "source": [
        "import numpy as np\n",
        "import pandas as pd\n",
        "import matplotlib.pyplot as plt\n",
        "\n",
        "data = [[2,0], [4, 0], [6, 0], [8, 1], [10, 1], [12, 1], [14, 1]]\n",
        "\n",
        "x_data = [i[0] for i in data]\n",
        "y_data = [i[1] for i in data]\n",
        "\n",
        "plt.scatter(x_data, y_data)\n",
        "plt.scatter(x_data, y_data)\n",
        "plt.xlim(0, 15)\n",
        "plt.ylim(-.1, 1.1)\n",
        "a = 0\n",
        "b = 0\n",
        "\n",
        "lr = 0.05\n",
        "\n",
        "def sigmoid(x):\n",
        "  return 1 / (1+np.e**(-x))\n",
        "\n",
        "for i in range(2001):\n",
        "  for x_data, y_data in data:\n",
        "    a_diff = x_data*(sigmoid(a*x_data + b) -  y_data)\n",
        "    b_diff = sigmoid(a*x_data + b) - y_data\n",
        "    a = a - lr * a_diff\n",
        "    b = b - lr * b_diff\n",
        "    if i % 1000 == 0:\n",
        "      print(\"epoch=%.f, 기울기=%.04f, 절편=%.04f\" % (i, a, b))\n",
        "    \n",
        "plt.scatter(x, y)\n",
        "plt.xlim(0, 15)\n",
        "plt.ylim(-.1, 1.1)\n",
        "x_range = (np.arange(0, 15, 0.1))\n",
        "plt.plot(np.arange(0, 15, 0.1), np.array([sigmoid(a*x + b) for x in x_range]))\n",
        "plt.show()"
      ],
      "execution_count": 16,
      "outputs": [
        {
          "output_type": "stream",
          "text": [
            "epoch=0, 기울기=-0.0500, 절편=-0.0250\n",
            "epoch=0, 기울기=-0.1388, 절편=-0.0472\n",
            "epoch=0, 기울기=-0.2268, 절편=-0.0619\n",
            "epoch=0, 기울기=0.1201, 절편=-0.0185\n",
            "epoch=0, 기울기=0.2374, 절편=-0.0068\n",
            "epoch=0, 기울기=0.2705, 절편=-0.0040\n",
            "epoch=0, 기울기=0.2860, 절편=-0.0029\n",
            "epoch=1000, 기울기=1.4978, 절편=-9.9401\n",
            "epoch=1000, 기울기=1.4940, 절편=-9.9411\n",
            "epoch=1000, 기울기=1.4120, 절편=-9.9547\n",
            "epoch=1000, 기울기=1.4949, 절편=-9.9444\n",
            "epoch=1000, 기울기=1.4982, 절편=-9.9440\n",
            "epoch=1000, 기울기=1.4984, 절편=-9.9440\n",
            "epoch=1000, 기울기=1.4985, 절편=-9.9440\n",
            "epoch=2000, 기울기=1.9065, 절편=-12.9489\n",
            "epoch=2000, 기울기=1.9055, 절편=-12.9491\n",
            "epoch=2000, 기울기=1.8515, 절편=-12.9581\n",
            "epoch=2000, 기울기=1.9057, 절편=-12.9514\n",
            "epoch=2000, 기울기=1.9068, 절편=-12.9513\n",
            "epoch=2000, 기울기=1.9068, 절편=-12.9513\n",
            "epoch=2000, 기울기=1.9068, 절편=-12.9513\n"
          ],
          "name": "stdout"
        },
        {
          "output_type": "display_data",
          "data": {
            "image/png": "[encoded data removed]",
            "text/plain": [
              "<Figure size 432x288 with 1 Axes>"
            ]
          },
          "metadata": {
            "tags": []
          }
        }
      ]
    }
  ]
}